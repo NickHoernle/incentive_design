{
 "cells": [
  {
   "cell_type": "code",
   "execution_count": 1,
   "metadata": {
    "scrolled": true
   },
   "outputs": [],
   "source": [
    "import mysql.connector\n",
    "from mysql.connector import errorcode\n",
    "import xmltodict\n",
    "import time\n",
    "\n",
    "# Obtain connection string information from the portal\n",
    "config = {\n",
    "  'host': 'stack-overflow-db.mysql.database.azure.com',\n",
    "  'user': 'stack-overflow@stack-overflow-db',\n",
    "  'password': 'password1!',\n",
    "  'database': 'stackoverflow'\n",
    "}\n",
    "\n",
    "# # Construct connection string\n",
    "# try:\n",
    "#     conn = mysql.connector.connect(**config)\n",
    "#     print(\"Connection established\")\n",
    "# except mysql.connector.Error as err:\n",
    "#     if err.errno == errorcode.ER_ACCESS_DENIED_ERROR:\n",
    "#         print(\"Something is wrong with the user name or password\")\n",
    "#     elif err.errno == errorcode.ER_BAD_DB_ERROR:\n",
    "#         print(\"Database does not exist\")\n",
    "#     else:\n",
    "#         print(err)\n",
    "# else:\n",
    "#     cursor = conn.cursor()\n",
    "#     count = 0\n",
    "#     fields = ['Id',\n",
    "#             'PostId',\n",
    "#             'Score',\n",
    "#             'Text',\n",
    "#             'CreationDate',\n",
    "#             'UserId']\n",
    "#     SQL = f\"INSERT INTO comments ({','.join(fields)}) VALUES ({','.join(['%s' for f in fields])});\"\n",
    "    \n",
    "#     with open('/home/nick/Downloads/stack_overflow/Comments.xml', 'r') as f:\n",
    "#         line = f.readline()\n",
    "        \n",
    "#         to_insert = []\n",
    "#         now = time.time()\n",
    "#         while line:\n",
    "\n",
    "#             try:\n",
    "#                 FIELDS = tuple([xmltodict.parse(line)['row'][f'@{field}'] for field in fields])\n",
    "#                 to_insert.append(FIELDS)\n",
    "#             except:\n",
    "#                 line = f.readline()\n",
    "#                 continue\n",
    "                \n",
    "#             line = f.readline()\n",
    "#             count += 1\n",
    "                \n",
    "#             if len(to_insert) == 500000:\n",
    "                \n",
    "#                 print(count, time.time()-now)\n",
    "#                 now = time.time()\n",
    "                \n",
    "#                 cursor.executemany(SQL, sorted(to_insert, key=lambda x: int(x[0])))\n",
    "#                 to_insert = []\n",
    "                \n",
    "#                 print(time.time()-now)\n",
    "#                 now = time.time()\n",
    "                \n",
    "#                 conn.commit()\n",
    "\n",
    "#     # Cleanup\n",
    "#     conn.commit()\n",
    "#     cursor.close()\n",
    "#     conn.close()\n",
    "\n",
    "#     print(\"Done.\")"
   ]
  },
  {
   "cell_type": "code",
   "execution_count": 9,
   "metadata": {},
   "outputs": [
    {
     "name": "stdout",
     "output_type": "stream",
     "text": [
      "Connection established\n",
      "Done.\n"
     ]
    }
   ],
   "source": [
    "# Construct connection string\n",
    "try:\n",
    "    conn = mysql.connector.connect(**config)\n",
    "    print(\"Connection established\")\n",
    "except mysql.connector.Error as err:\n",
    "    if err.errno == errorcode.ER_ACCESS_DENIED_ERROR:\n",
    "        print(\"Something is wrong with the user name or password\")\n",
    "    elif err.errno == errorcode.ER_BAD_DB_ERROR:\n",
    "        print(\"Database does not exist\")\n",
    "    else:\n",
    "        print(err)\n",
    "else:\n",
    "    cursor = conn.cursor()\n",
    "    count = 0\n",
    "    \n",
    "    fields = [\n",
    "        'Id',\n",
    "        'PostId',\n",
    "        'VoteTypeId',\n",
    "        'CreationDate',\n",
    "        'UserId',\n",
    "        'BountyAmount']\n",
    "    \n",
    "    SQL = f\"INSERT INTO votes ({','.join(fields)}) VALUES ({','.join(['%s' for f in fields])});\"\n",
    "    \n",
    "    with open('/home/nick/Downloads/stack_overflow/Votes.xml', 'r') as f:\n",
    "        line = f.readline()\n",
    "        \n",
    "        to_insert = []\n",
    "        now = time.time()\n",
    "        while line:\n",
    "\n",
    "            try:\n",
    "                FIELDS = tuple([xmltodict.parse(line)['row'][f'@{field}'] if (f'@{field}' in xmltodict.parse(line)['row']) else '' \n",
    "                                for field in fields])\n",
    "                to_insert.append(FIELDS)\n",
    "            except:\n",
    "                line = f.readline()\n",
    "                count += 1\n",
    "                if count > 10:\n",
    "                    break\n",
    "                continue\n",
    "                \n",
    "            line = f.readline()\n",
    "            count += 1\n",
    "            if count > 10:\n",
    "                break\n",
    "#             if len(to_insert) == 500000:\n",
    "                \n",
    "#                 print(count, time.time()-now)\n",
    "#                 now = time.time()\n",
    "                \n",
    "#                 cursor.executemany(SQL, sorted(to_insert, key=lambda x: int(x[0])))\n",
    "#                 to_insert = []\n",
    "                \n",
    "#                 print(time.time()-now)\n",
    "#                 now = time.time()\n",
    "                \n",
    "#                 conn.commit()\n",
    "\n",
    "#     # Cleanup\n",
    "#     conn.commit()\n",
    "    cursor.close()\n",
    "    conn.close()\n",
    "\n",
    "    print(\"Done.\")"
   ]
  },
  {
   "cell_type": "code",
   "execution_count": 10,
   "metadata": {},
   "outputs": [
    {
     "data": {
      "text/plain": [
       "('11', '13', '2', '2008-08-01T00:00:00.000', '', '')"
      ]
     },
     "execution_count": 10,
     "metadata": {},
     "output_type": "execute_result"
    }
   ],
   "source": [
    "tuple([xmltodict.parse(line)['row'][f'@{field}'] if (f'@{field}' in xmltodict.parse(line)['row']) else '' \n",
    "                                for field in fields])"
   ]
  },
  {
   "cell_type": "code",
   "execution_count": null,
   "metadata": {},
   "outputs": [],
   "source": []
  }
 ],
 "metadata": {
  "kernelspec": {
   "display_name": "Python 3",
   "language": "python",
   "name": "python3"
  },
  "language_info": {
   "codemirror_mode": {
    "name": "ipython",
    "version": 3
   },
   "file_extension": ".py",
   "mimetype": "text/x-python",
   "name": "python",
   "nbconvert_exporter": "python",
   "pygments_lexer": "ipython3",
   "version": "3.6.5"
  }
 },
 "nbformat": 4,
 "nbformat_minor": 2
}
