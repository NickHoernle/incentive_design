{
 "cells": [
  {
   "cell_type": "code",
   "execution_count": 162,
   "metadata": {},
   "outputs": [],
   "source": [
    "import pandas as pd\n",
    "import numpy as np\n",
    "import matplotlib.pyplot as plt\n",
    "%matplotlib inline"
   ]
  },
  {
   "cell_type": "code",
   "execution_count": 163,
   "metadata": {},
   "outputs": [],
   "source": [
    "badges = pd.read_csv('./../data/users_and_badges_for_most_badges.csv')\n",
    "posts = pd.read_csv('./../data/posts_from_users_with_most_badges.csv')"
   ]
  },
  {
   "cell_type": "code",
   "execution_count": 164,
   "metadata": {},
   "outputs": [
    {
     "data": {
      "text/html": [
       "<div>\n",
       "<style scoped>\n",
       "    .dataframe tbody tr th:only-of-type {\n",
       "        vertical-align: middle;\n",
       "    }\n",
       "\n",
       "    .dataframe tbody tr th {\n",
       "        vertical-align: top;\n",
       "    }\n",
       "\n",
       "    .dataframe thead th {\n",
       "        text-align: right;\n",
       "    }\n",
       "</style>\n",
       "<table border=\"1\" class=\"dataframe\">\n",
       "  <thead>\n",
       "    <tr style=\"text-align: right;\">\n",
       "      <th></th>\n",
       "      <th>UserId</th>\n",
       "      <th>Name</th>\n",
       "      <th>Date</th>\n",
       "    </tr>\n",
       "  </thead>\n",
       "  <tbody>\n",
       "    <tr>\n",
       "      <th>0</th>\n",
       "      <td>615754</td>\n",
       "      <td>jquery</td>\n",
       "      <td>2012-02-16 03:02:26</td>\n",
       "    </tr>\n",
       "    <tr>\n",
       "      <th>1</th>\n",
       "      <td>526535</td>\n",
       "      <td>git</td>\n",
       "      <td>2011-08-27 03:01:37</td>\n",
       "    </tr>\n",
       "    <tr>\n",
       "      <th>2</th>\n",
       "      <td>874188</td>\n",
       "      <td>bash</td>\n",
       "      <td>2013-11-21 03:02:53</td>\n",
       "    </tr>\n",
       "    <tr>\n",
       "      <th>3</th>\n",
       "      <td>415784</td>\n",
       "      <td>c++11</td>\n",
       "      <td>2012-11-21 03:00:56</td>\n",
       "    </tr>\n",
       "    <tr>\n",
       "      <th>4</th>\n",
       "      <td>616700</td>\n",
       "      <td>c++</td>\n",
       "      <td>2011-03-05 03:02:13</td>\n",
       "    </tr>\n",
       "  </tbody>\n",
       "</table>\n",
       "</div>"
      ],
      "text/plain": [
       "   UserId    Name                 Date\n",
       "0  615754  jquery  2012-02-16 03:02:26\n",
       "1  526535     git  2011-08-27 03:01:37\n",
       "2  874188    bash  2013-11-21 03:02:53\n",
       "3  415784   c++11  2012-11-21 03:00:56\n",
       "4  616700     c++  2011-03-05 03:02:13"
      ]
     },
     "execution_count": 164,
     "metadata": {},
     "output_type": "execute_result"
    }
   ],
   "source": [
    "badges.head()"
   ]
  },
  {
   "cell_type": "code",
   "execution_count": 165,
   "metadata": {},
   "outputs": [
    {
     "data": {
      "text/html": [
       "<div>\n",
       "<style scoped>\n",
       "    .dataframe tbody tr th:only-of-type {\n",
       "        vertical-align: middle;\n",
       "    }\n",
       "\n",
       "    .dataframe tbody tr th {\n",
       "        vertical-align: top;\n",
       "    }\n",
       "\n",
       "    .dataframe thead th {\n",
       "        text-align: right;\n",
       "    }\n",
       "</style>\n",
       "<table border=\"1\" class=\"dataframe\">\n",
       "  <thead>\n",
       "    <tr style=\"text-align: right;\">\n",
       "      <th></th>\n",
       "      <th>Id</th>\n",
       "      <th>PostTypeId</th>\n",
       "      <th>CreationDate</th>\n",
       "      <th>Score</th>\n",
       "      <th>OwnerUserId</th>\n",
       "      <th>ParentId</th>\n",
       "      <th>tags</th>\n",
       "    </tr>\n",
       "  </thead>\n",
       "  <tbody>\n",
       "    <tr>\n",
       "      <th>0</th>\n",
       "      <td>1107066</td>\n",
       "      <td>2</td>\n",
       "      <td>2009-07-10 00:08:15</td>\n",
       "      <td>1</td>\n",
       "      <td>135978</td>\n",
       "      <td>1107021</td>\n",
       "      <td>&lt;html&gt;</td>\n",
       "    </tr>\n",
       "    <tr>\n",
       "      <th>1</th>\n",
       "      <td>1107124</td>\n",
       "      <td>2</td>\n",
       "      <td>2009-07-10 00:27:40</td>\n",
       "      <td>0</td>\n",
       "      <td>135978</td>\n",
       "      <td>1107106</td>\n",
       "      <td>&lt;regex&gt;</td>\n",
       "    </tr>\n",
       "    <tr>\n",
       "      <th>2</th>\n",
       "      <td>1120416</td>\n",
       "      <td>2</td>\n",
       "      <td>2009-07-13 16:07:54</td>\n",
       "      <td>6</td>\n",
       "      <td>135978</td>\n",
       "      <td>1120375</td>\n",
       "      <td>&lt;asp.net&gt;&lt;html&gt;&lt;css&gt;</td>\n",
       "    </tr>\n",
       "    <tr>\n",
       "      <th>3</th>\n",
       "      <td>1134164</td>\n",
       "      <td>2</td>\n",
       "      <td>2009-07-15 21:19:43</td>\n",
       "      <td>2</td>\n",
       "      <td>135978</td>\n",
       "      <td>1134143</td>\n",
       "      <td>&lt;javascript&gt;&lt;html&gt;&lt;css&gt;</td>\n",
       "    </tr>\n",
       "    <tr>\n",
       "      <th>4</th>\n",
       "      <td>1195073</td>\n",
       "      <td>2</td>\n",
       "      <td>2009-07-28 15:57:22</td>\n",
       "      <td>0</td>\n",
       "      <td>135978</td>\n",
       "      <td>1194663</td>\n",
       "      <td>&lt;php&gt;&lt;html&gt;</td>\n",
       "    </tr>\n",
       "  </tbody>\n",
       "</table>\n",
       "</div>"
      ],
      "text/plain": [
       "        Id  PostTypeId         CreationDate  Score  OwnerUserId  ParentId  \\\n",
       "0  1107066           2  2009-07-10 00:08:15      1       135978   1107021   \n",
       "1  1107124           2  2009-07-10 00:27:40      0       135978   1107106   \n",
       "2  1120416           2  2009-07-13 16:07:54      6       135978   1120375   \n",
       "3  1134164           2  2009-07-15 21:19:43      2       135978   1134143   \n",
       "4  1195073           2  2009-07-28 15:57:22      0       135978   1194663   \n",
       "\n",
       "                      tags  \n",
       "0                   <html>  \n",
       "1                  <regex>  \n",
       "2     <asp.net><html><css>  \n",
       "3  <javascript><html><css>  \n",
       "4              <php><html>  "
      ]
     },
     "execution_count": 165,
     "metadata": {},
     "output_type": "execute_result"
    }
   ],
   "source": [
    "posts.head()"
   ]
  },
  {
   "cell_type": "markdown",
   "metadata": {},
   "source": [
    "### List of badges that we are considering"
   ]
  },
  {
   "cell_type": "code",
   "execution_count": 166,
   "metadata": {},
   "outputs": [
    {
     "data": {
      "text/plain": [
       "array(['jquery', 'git', 'bash', 'c++11', 'c++', 'python', 'php', 'sql',\n",
       "       'arrays', 'c', 'sql-server', 'java', 'ruby-on-rails', 'iphone',\n",
       "       'mysql', 'android', 'c#', 'objective-c', 'django', 'html', 'swift',\n",
       "       'ios', 'linux', 'angularjs', 'node.js', 'css', 'r', 'regex',\n",
       "       'asp.net-mvc', 'haskell', 'scala', 'string', '.net', 'ruby',\n",
       "       'perl', 'wpf', 'asp.net'], dtype=object)"
      ]
     },
     "execution_count": 166,
     "metadata": {},
     "output_type": "execute_result"
    }
   ],
   "source": [
    "badges.Name.unique()"
   ]
  },
  {
   "cell_type": "markdown",
   "metadata": {},
   "source": [
    "### Number of badges that each user got"
   ]
  },
  {
   "cell_type": "code",
   "execution_count": 167,
   "metadata": {},
   "outputs": [
    {
     "data": {
      "text/plain": [
       "array([[<matplotlib.axes._subplots.AxesSubplot object at 0x7f415798f4e0>]],\n",
       "      dtype=object)"
      ]
     },
     "execution_count": 167,
     "metadata": {},
     "output_type": "execute_result"
    },
    {
     "data": {
      "image/png": "[encoded data removed]",
      "text/plain": [
       "<Figure size 432x288 with 1 Axes>"
      ]
     },
     "metadata": {},
     "output_type": "display_data"
    }
   ],
   "source": [
    "badges.groupby('UserId').agg('count')[['Name']].hist()"
   ]
  },
  {
   "cell_type": "code",
   "execution_count": 168,
   "metadata": {},
   "outputs": [
    {
     "data": {
      "text/html": [
       "<div>\n",
       "<style scoped>\n",
       "    .dataframe tbody tr th:only-of-type {\n",
       "        vertical-align: middle;\n",
       "    }\n",
       "\n",
       "    .dataframe tbody tr th {\n",
       "        vertical-align: top;\n",
       "    }\n",
       "\n",
       "    .dataframe thead th {\n",
       "        text-align: right;\n",
       "    }\n",
       "</style>\n",
       "<table border=\"1\" class=\"dataframe\">\n",
       "  <thead>\n",
       "    <tr style=\"text-align: right;\">\n",
       "      <th></th>\n",
       "      <th>UserId</th>\n",
       "      <th>Name</th>\n",
       "      <th>Date</th>\n",
       "    </tr>\n",
       "  </thead>\n",
       "  <tbody>\n",
       "    <tr>\n",
       "      <th>0</th>\n",
       "      <td>615754</td>\n",
       "      <td>jquery</td>\n",
       "      <td>2012-02-16 03:02:26</td>\n",
       "    </tr>\n",
       "    <tr>\n",
       "      <th>1</th>\n",
       "      <td>526535</td>\n",
       "      <td>git</td>\n",
       "      <td>2011-08-27 03:01:37</td>\n",
       "    </tr>\n",
       "    <tr>\n",
       "      <th>2</th>\n",
       "      <td>874188</td>\n",
       "      <td>bash</td>\n",
       "      <td>2013-11-21 03:02:53</td>\n",
       "    </tr>\n",
       "    <tr>\n",
       "      <th>3</th>\n",
       "      <td>415784</td>\n",
       "      <td>c++11</td>\n",
       "      <td>2012-11-21 03:00:56</td>\n",
       "    </tr>\n",
       "    <tr>\n",
       "      <th>4</th>\n",
       "      <td>616700</td>\n",
       "      <td>c++</td>\n",
       "      <td>2011-03-05 03:02:13</td>\n",
       "    </tr>\n",
       "  </tbody>\n",
       "</table>\n",
       "</div>"
      ],
      "text/plain": [
       "   UserId    Name                 Date\n",
       "0  615754  jquery  2012-02-16 03:02:26\n",
       "1  526535     git  2011-08-27 03:01:37\n",
       "2  874188    bash  2013-11-21 03:02:53\n",
       "3  415784   c++11  2012-11-21 03:00:56\n",
       "4  616700     c++  2011-03-05 03:02:13"
      ]
     },
     "execution_count": 168,
     "metadata": {},
     "output_type": "execute_result"
    }
   ],
   "source": [
    "counts = badges.groupby('UserId').agg('count').Name\n",
    "counts = counts[counts >= 2]\n",
    "badges = badges[badges.UserId.isin(counts.index)]\n",
    "badges.head()"
   ]
  },
  {
   "cell_type": "markdown",
   "metadata": {},
   "source": [
    "### Taking an example of one User"
   ]
  },
  {
   "cell_type": "code",
   "execution_count": 170,
   "metadata": {},
   "outputs": [
    {
     "name": "stdout",
     "output_type": "stream",
     "text": [
      "30\n"
     ]
    },
    {
     "data": {
      "text/plain": [
       "135978"
      ]
     },
     "execution_count": 170,
     "metadata": {},
     "output_type": "execute_result"
    }
   ],
   "source": [
    "user = posts.OwnerUserId.unique()[0]\n",
    "print(len(posts.OwnerUserId.unique()))\n",
    "user"
   ]
  },
  {
   "cell_type": "code",
   "execution_count": 171,
   "metadata": {},
   "outputs": [
    {
     "data": {
      "text/html": [
       "<div>\n",
       "<style scoped>\n",
       "    .dataframe tbody tr th:only-of-type {\n",
       "        vertical-align: middle;\n",
       "    }\n",
       "\n",
       "    .dataframe tbody tr th {\n",
       "        vertical-align: top;\n",
       "    }\n",
       "\n",
       "    .dataframe thead th {\n",
       "        text-align: right;\n",
       "    }\n",
       "</style>\n",
       "<table border=\"1\" class=\"dataframe\">\n",
       "  <thead>\n",
       "    <tr style=\"text-align: right;\">\n",
       "      <th></th>\n",
       "      <th>Id</th>\n",
       "      <th>PostTypeId</th>\n",
       "      <th>CreationDate</th>\n",
       "      <th>Score</th>\n",
       "      <th>OwnerUserId</th>\n",
       "      <th>ParentId</th>\n",
       "      <th>tags</th>\n",
       "    </tr>\n",
       "  </thead>\n",
       "  <tbody>\n",
       "    <tr>\n",
       "      <th>0</th>\n",
       "      <td>1107066</td>\n",
       "      <td>2</td>\n",
       "      <td>2009-07-10 00:08:15</td>\n",
       "      <td>1</td>\n",
       "      <td>135978</td>\n",
       "      <td>1107021</td>\n",
       "      <td>&lt;html&gt;</td>\n",
       "    </tr>\n",
       "    <tr>\n",
       "      <th>1</th>\n",
       "      <td>1107124</td>\n",
       "      <td>2</td>\n",
       "      <td>2009-07-10 00:27:40</td>\n",
       "      <td>0</td>\n",
       "      <td>135978</td>\n",
       "      <td>1107106</td>\n",
       "      <td>&lt;regex&gt;</td>\n",
       "    </tr>\n",
       "    <tr>\n",
       "      <th>2</th>\n",
       "      <td>1120416</td>\n",
       "      <td>2</td>\n",
       "      <td>2009-07-13 16:07:54</td>\n",
       "      <td>6</td>\n",
       "      <td>135978</td>\n",
       "      <td>1120375</td>\n",
       "      <td>&lt;asp.net&gt;&lt;html&gt;&lt;css&gt;</td>\n",
       "    </tr>\n",
       "    <tr>\n",
       "      <th>3</th>\n",
       "      <td>1134164</td>\n",
       "      <td>2</td>\n",
       "      <td>2009-07-15 21:19:43</td>\n",
       "      <td>2</td>\n",
       "      <td>135978</td>\n",
       "      <td>1134143</td>\n",
       "      <td>&lt;javascript&gt;&lt;html&gt;&lt;css&gt;</td>\n",
       "    </tr>\n",
       "    <tr>\n",
       "      <th>4</th>\n",
       "      <td>1195073</td>\n",
       "      <td>2</td>\n",
       "      <td>2009-07-28 15:57:22</td>\n",
       "      <td>0</td>\n",
       "      <td>135978</td>\n",
       "      <td>1194663</td>\n",
       "      <td>&lt;php&gt;&lt;html&gt;</td>\n",
       "    </tr>\n",
       "  </tbody>\n",
       "</table>\n",
       "</div>"
      ],
      "text/plain": [
       "        Id  PostTypeId         CreationDate  Score  OwnerUserId  ParentId  \\\n",
       "0  1107066           2  2009-07-10 00:08:15      1       135978   1107021   \n",
       "1  1107124           2  2009-07-10 00:27:40      0       135978   1107106   \n",
       "2  1120416           2  2009-07-13 16:07:54      6       135978   1120375   \n",
       "3  1134164           2  2009-07-15 21:19:43      2       135978   1134143   \n",
       "4  1195073           2  2009-07-28 15:57:22      0       135978   1194663   \n",
       "\n",
       "                      tags  \n",
       "0                   <html>  \n",
       "1                  <regex>  \n",
       "2     <asp.net><html><css>  \n",
       "3  <javascript><html><css>  \n",
       "4              <php><html>  "
      ]
     },
     "execution_count": 171,
     "metadata": {},
     "output_type": "execute_result"
    }
   ],
   "source": [
    "user_badges = badges[badges.UserId == user]\n",
    "user_posts = posts[posts.OwnerUserId == user]\n",
    "user_posts.head()"
   ]
  },
  {
   "cell_type": "code",
   "execution_count": 172,
   "metadata": {},
   "outputs": [
    {
     "data": {
      "text/html": [
       "<div>\n",
       "<style scoped>\n",
       "    .dataframe tbody tr th:only-of-type {\n",
       "        vertical-align: middle;\n",
       "    }\n",
       "\n",
       "    .dataframe tbody tr th {\n",
       "        vertical-align: top;\n",
       "    }\n",
       "\n",
       "    .dataframe thead th {\n",
       "        text-align: right;\n",
       "    }\n",
       "</style>\n",
       "<table border=\"1\" class=\"dataframe\">\n",
       "  <thead>\n",
       "    <tr style=\"text-align: right;\">\n",
       "      <th></th>\n",
       "      <th>UserId</th>\n",
       "      <th>Name</th>\n",
       "      <th>Date</th>\n",
       "    </tr>\n",
       "  </thead>\n",
       "  <tbody>\n",
       "    <tr>\n",
       "      <th>1511</th>\n",
       "      <td>135978</td>\n",
       "      <td>html</td>\n",
       "      <td>2015-11-19 03:06:06</td>\n",
       "    </tr>\n",
       "    <tr>\n",
       "      <th>2530</th>\n",
       "      <td>135978</td>\n",
       "      <td>python</td>\n",
       "      <td>2012-08-05 03:01:11</td>\n",
       "    </tr>\n",
       "    <tr>\n",
       "      <th>8518</th>\n",
       "      <td>135978</td>\n",
       "      <td>jquery</td>\n",
       "      <td>2014-09-20 03:05:23</td>\n",
       "    </tr>\n",
       "  </tbody>\n",
       "</table>\n",
       "</div>"
      ],
      "text/plain": [
       "      UserId    Name                 Date\n",
       "1511  135978    html  2015-11-19 03:06:06\n",
       "2530  135978  python  2012-08-05 03:01:11\n",
       "8518  135978  jquery  2014-09-20 03:05:23"
      ]
     },
     "execution_count": 172,
     "metadata": {},
     "output_type": "execute_result"
    }
   ],
   "source": [
    "user_badges.head()"
   ]
  },
  {
   "cell_type": "code",
   "execution_count": 200,
   "metadata": {
    "scrolled": false
   },
   "outputs": [
    {
     "name": "stdout",
     "output_type": "stream",
     "text": [
      "asp.net\n"
     ]
    },
    {
     "name": "stderr",
     "output_type": "stream",
     "text": [
      "/home/nick/anaconda3/lib/python3.6/site-packages/ipykernel_launcher.py:17: SettingWithCopyWarning: \n",
      "A value is trying to be set on a copy of a slice from a DataFrame.\n",
      "Try using .loc[row_indexer,col_indexer] = value instead\n",
      "\n",
      "See the caveats in the documentation: http://pandas.pydata.org/pandas-docs/stable/indexing.html#indexing-view-versus-copy\n",
      "/home/nick/anaconda3/lib/python3.6/site-packages/ipykernel_launcher.py:18: SettingWithCopyWarning: \n",
      "A value is trying to be set on a copy of a slice from a DataFrame.\n",
      "Try using .loc[row_indexer,col_indexer] = value instead\n",
      "\n",
      "See the caveats in the documentation: http://pandas.pydata.org/pandas-docs/stable/indexing.html#indexing-view-versus-copy\n"
     ]
    },
    {
     "name": "stdout",
     "output_type": "stream",
     "text": [
      "asp.net-mvc\n"
     ]
    },
    {
     "name": "stderr",
     "output_type": "stream",
     "text": [
      "/home/nick/anaconda3/lib/python3.6/site-packages/ipykernel_launcher.py:17: SettingWithCopyWarning: \n",
      "A value is trying to be set on a copy of a slice from a DataFrame.\n",
      "Try using .loc[row_indexer,col_indexer] = value instead\n",
      "\n",
      "See the caveats in the documentation: http://pandas.pydata.org/pandas-docs/stable/indexing.html#indexing-view-versus-copy\n",
      "/home/nick/anaconda3/lib/python3.6/site-packages/ipykernel_launcher.py:18: SettingWithCopyWarning: \n",
      "A value is trying to be set on a copy of a slice from a DataFrame.\n",
      "Try using .loc[row_indexer,col_indexer] = value instead\n",
      "\n",
      "See the caveats in the documentation: http://pandas.pydata.org/pandas-docs/stable/indexing.html#indexing-view-versus-copy\n",
      "/home/nick/anaconda3/lib/python3.6/site-packages/ipykernel_launcher.py:17: SettingWithCopyWarning: \n",
      "A value is trying to be set on a copy of a slice from a DataFrame.\n",
      "Try using .loc[row_indexer,col_indexer] = value instead\n",
      "\n",
      "See the caveats in the documentation: http://pandas.pydata.org/pandas-docs/stable/indexing.html#indexing-view-versus-copy\n"
     ]
    },
    {
     "name": "stdout",
     "output_type": "stream",
     "text": [
      "c#\n"
     ]
    },
    {
     "name": "stderr",
     "output_type": "stream",
     "text": [
      "/home/nick/anaconda3/lib/python3.6/site-packages/ipykernel_launcher.py:18: SettingWithCopyWarning: \n",
      "A value is trying to be set on a copy of a slice from a DataFrame.\n",
      "Try using .loc[row_indexer,col_indexer] = value instead\n",
      "\n",
      "See the caveats in the documentation: http://pandas.pydata.org/pandas-docs/stable/indexing.html#indexing-view-versus-copy\n"
     ]
    },
    {
     "data": {
      "image/png": "[encoded data removed]",
      "text/plain": [
       "<Figure size 1080x1080 with 3 Axes>"
      ]
     },
     "metadata": {},
     "output_type": "display_data"
    }
   ],
   "source": [
    "user = posts.OwnerUserId.unique()[15]\n",
    "\n",
    "user_badges = badges[badges.UserId == user]\n",
    "user_posts = posts[posts.OwnerUserId == user]\n",
    "\n",
    "num_badges = user_badges.shape[1]\n",
    "\n",
    "lim1 = -52\n",
    "lim2 = 52\n",
    "\n",
    "fig, axes = plt.subplots(num_badges, 1, figsize=(15, 5*num_badges))\n",
    "\n",
    "for ax, (r,badge) in zip(axes, user_badges.iterrows()):\n",
    "    print(badge.Name)\n",
    "    ax.set_title(f'{badge.Name} {badge.Date} {badge.UserId}')\n",
    "    \n",
    "    user_posts['badge_posts'] = user_posts.apply(lambda x: badge.Name in [t.replace('>', '').replace('<', '') for t in x.tags.split('><')], axis=1)\n",
    "    user_posts['days'] = user_posts.apply(lambda x: (pd.to_datetime(badge.Date) - pd.to_datetime(x.CreationDate)).days//7, axis=1)\n",
    "    \n",
    "    badge_related = user_posts[user_posts.badge_posts == True].groupby('days').agg('count').Id\n",
    "    not_badge_related = user_posts[user_posts.badge_posts == False].groupby('days').agg('count').Id\n",
    "    \n",
    "    acivity = np.zeros(lim2-lim1)\n",
    "    for day, count in badge_related[(badge_related.index >= lim1) & (badge_related.index < lim2)].iteritems():\n",
    "        acivity[-lim1+day] += count\n",
    "    ax.plot(acivity, c='g', alpha=.75, label='Badge Focus')\n",
    "    \n",
    "    acivity = np.zeros(lim2-lim1)\n",
    "    for day, count in not_badge_related[(not_badge_related.index >= lim1) & (not_badge_related.index < lim2)].iteritems():\n",
    "        acivity[-lim1+day] += count\n",
    "    ax.plot(acivity, c='b', alpha=.75, label='Not Badge Focus')\n",
    "\n",
    "    ax.axvline(x=-lim1, c='r', lw=2)\n",
    "    ax.legend(loc='best')\n",
    "    \n",
    "plt.show()"
   ]
  },
  {
   "cell_type": "code",
   "execution_count": null,
   "metadata": {},
   "outputs": [],
   "source": []
  },
  {
   "cell_type": "code",
   "execution_count": null,
   "metadata": {},
   "outputs": [],
   "source": []
  },
  {
   "cell_type": "code",
   "execution_count": null,
   "metadata": {},
   "outputs": [],
   "source": []
  },
  {
   "cell_type": "code",
   "execution_count": null,
   "metadata": {},
   "outputs": [],
   "source": []
  },
  {
   "cell_type": "code",
   "execution_count": null,
   "metadata": {},
   "outputs": [],
   "source": []
  },
  {
   "cell_type": "code",
   "execution_count": null,
   "metadata": {},
   "outputs": [],
   "source": []
  },
  {
   "cell_type": "code",
   "execution_count": null,
   "metadata": {},
   "outputs": [],
   "source": []
  },
  {
   "cell_type": "code",
   "execution_count": null,
   "metadata": {},
   "outputs": [],
   "source": []
  },
  {
   "cell_type": "code",
   "execution_count": null,
   "metadata": {},
   "outputs": [],
   "source": []
  },
  {
   "cell_type": "code",
   "execution_count": null,
   "metadata": {},
   "outputs": [],
   "source": []
  }
 ],
 "metadata": {
  "kernelspec": {
   "display_name": "Python 3",
   "language": "python",
   "name": "python3"
  },
  "language_info": {
   "codemirror_mode": {
    "name": "ipython",
    "version": 3
   },
   "file_extension": ".py",
   "mimetype": "text/x-python",
   "name": "python",
   "nbconvert_exporter": "python",
   "pygments_lexer": "ipython3",
   "version": "3.6.5"
  }
 },
 "nbformat": 4,
 "nbformat_minor": 2
}
